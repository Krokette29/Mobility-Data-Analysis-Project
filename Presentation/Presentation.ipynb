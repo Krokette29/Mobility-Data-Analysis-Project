{
 "cells": [
  {
   "cell_type": "markdown",
   "metadata": {},
   "source": [
    "# Step 1. Data Preprocessing\n",
    "\n",
    "- **Script data_transformer.py**  \n",
    "This script collects all plt files of one user, and export 181 csv files.\n",
    "\n",
    "- **Script data_preprocessor.py**  \n",
    "This script calculates instant distance, speed and acceleration, and export 181 csv files.\n",
    "\n",
    "- **Script csv_collector.py**  \n",
    "This script collects all 181 csv files to one csv file, including data with labels and without labels."
   ]
  },
  {
   "cell_type": "markdown",
   "metadata": {},
   "source": [
    "------\n",
    "# Step 2. Metadata Calculation\n",
    "\n",
    "- **Script metadata_exporter.py**  \n",
    "This script calculates average speed/acceleration and maximum speed/acceleration for every track, and export to metadata_df.csv\n",
    "\n",
    "- **Project Tasks Calculation**  \n",
    "See Jupyter Notebook ProjectCode_MetadataCalculation.ipynb"
   ]
  },
  {
   "cell_type": "markdown",
   "metadata": {},
   "source": [
    "------\n",
    "# Step 3. Neural Network\n",
    "\n",
    "- **Script neural_network.py**  \n",
    "This script is for training a neural network model using Tensorflow.\n",
    "\n",
    "- **Hyperparameters Tuning**  \n",
    "    - params_size: [4, 64, 128, 64, 32, 11]\n",
    "    - learning_rate: 0.001\n",
    "    - lambda: 0.1\n",
    "    - minibatch_size: 128\n",
    "    - num_epochs: 3000  \n",
    "    -> training accuracy: 76%  \n",
    "    -> test accuracy: 74%\n",
    "\n",
    "- **Prediction and Model Analysis**\n",
    "See Jupyter Notebook ProjectCode_NeuralNetwork.ipynb"
   ]
  }
 ],
 "metadata": {
  "kernelspec": {
   "display_name": "Python 3",
   "language": "python",
   "name": "python3"
  },
  "language_info": {
   "codemirror_mode": {
    "name": "ipython",
    "version": 3
   },
   "file_extension": ".py",
   "mimetype": "text/x-python",
   "name": "python",
   "nbconvert_exporter": "python",
   "pygments_lexer": "ipython3",
   "version": "3.7.3"
  }
 },
 "nbformat": 4,
 "nbformat_minor": 2
}
