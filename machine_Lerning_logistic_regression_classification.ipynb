{
 "cells": [
  {
   "cell_type": "code",
   "execution_count": 11,
   "metadata": {
    "colab": {
     "base_uri": "https://localhost:8080/",
     "height": 35
    },
    "colab_type": "code",
    "id": "JxQjxV0Jpqph",
    "outputId": "6b2a69a2-9765-4fc8-a27f-1b2fd523ec2f"
   },
   "outputs": [],
   "source": [
    "path = \"metadata_df.csv\" #path 是文件路径  "
   ]
  },
  {
   "cell_type": "code",
   "execution_count": 13,
   "metadata": {
    "colab": {},
    "colab_type": "code",
    "id": "hoc018Zhp2Yw"
   },
   "outputs": [],
   "source": [
    "from uutils import data_importer"
   ]
  },
  {
   "cell_type": "code",
   "execution_count": 14,
   "metadata": {},
   "outputs": [],
   "source": [
    "import geopandas as gpd\n",
    "import pandas as pd\n",
    "from datetime import datetime #python 自带的包，跟geopandas ,pandas 一样\n",
    "import glob"
   ]
  },
  {
   "cell_type": "code",
   "execution_count": 15,
   "metadata": {},
   "outputs": [],
   "source": [
    "def metadata_importer(path):\n",
    "\twith open(path, 'r') as f:\n",
    "\t\tdf = pd.read_csv(f)\n",
    "\n",
    "\t# change user id from float to str\n",
    "\tdf['user_id'] = list(map(lambda x: '0' * (3 - len(str(int(x)))) + str(int(x)), df['user_id']))\n",
    "\n",
    "\t# change datetime from str to datetime.datetime\n",
    "\tdf['datetime'] = list(map(lambda s: datetime.strptime(s, '%Y-%m-%d %H:%M:%S'), df['end_time'].values))\n",
    "\n",
    "\tprint('Metadata import complete!')\n",
    "\treturn df"
   ]
  },
  {
   "cell_type": "code",
   "execution_count": 16,
   "metadata": {
    "colab": {
     "base_uri": "https://localhost:8080/",
     "height": 399
    },
    "colab_type": "code",
    "id": "5QPFUf6BqC6P",
    "outputId": "aaf7ff12-549e-400f-f7d7-9074f6a850e9"
   },
   "outputs": [
    {
     "name": "stdout",
     "output_type": "stream",
     "text": [
      "Metadata import complete!\n"
     ]
    }
   ],
   "source": [
    "df = metadata_importer(path)"
   ]
  },
  {
   "cell_type": "code",
   "execution_count": 18,
   "metadata": {
    "colab": {
     "base_uri": "https://localhost:8080/",
     "height": 52
    },
    "colab_type": "code",
    "id": "X7BtgRCEqSt7",
    "outputId": "71944fa6-5701-42ac-fb78-a517f91fd76c"
   },
   "outputs": [
    {
     "name": "stdout",
     "output_type": "stream",
     "text": [
      "['train' 'taxi' 'walk' 'bus' 'subway' 'airplane' 'car' 'bike' 'boat' 'run'\n",
      " 'motorcycle']\n"
     ]
    }
   ],
   "source": [
    "print(df['mode'].unique())"
   ]
  },
  {
   "cell_type": "code",
   "execution_count": 22,
   "metadata": {
    "colab": {
     "base_uri": "https://localhost:8080/",
     "height": 319
    },
    "colab_type": "code",
    "id": "MbnLonnnqV1u",
    "outputId": "ec3b5625-e352-4298-86cc-6af915fcbc69"
   },
   "outputs": [
    {
     "name": "stdout",
     "output_type": "stream",
     "text": [
      "Features: average_speed average_acceleration max_speed max_acceleration\n",
      "Target: mode\n",
      "       average_speed  average_acceleration   max_speed  max_acceleration\n",
      "0          63.956277              0.001430  118.710639          0.068488\n",
      "1          74.221753              0.001588  117.506273          0.074917\n",
      "2          75.022218              0.001541  115.419248          0.073340\n",
      "3          79.359841              0.004979  110.806526          0.064658\n",
      "4          60.461406              0.056342  116.947948          0.072975\n",
      "...              ...                   ...         ...               ...\n",
      "13220      25.242507              0.011228   50.753643          1.103164\n",
      "13221       5.423305             -0.008702   11.321320          0.815151\n",
      "13222      34.189215              0.015964   60.632991          1.639953\n",
      "13223       3.736127             -0.016841    8.689323          0.390340\n",
      "13224      41.754385             -0.001604   81.382943          0.751639\n",
      "\n",
      "[13225 rows x 4 columns]\n",
      "(13225,)\n"
     ]
    }
   ],
   "source": [
    "# Separat independent features and dependant feature(target)\n",
    "\n",
    "feature1 = df.columns[0]\n",
    "feature2 = df.columns[1]\n",
    "feature3 = df.columns[2]\n",
    "feature4 = df.columns[3]\n",
    "           \n",
    "target = df.columns[4]                      # Species 这里的features 对应选取多少个列，3，4，5，\n",
    "\n",
    "print('Features:',feature1,feature2,feature3,feature4)\n",
    "print('Target:',target)\n",
    "\n",
    "# store feature matrix in \"X\"\n",
    "X = df.iloc[:,:4]                  # slicing: all rows and 1 to 2 cols （slicing:限制 这里选取对应的列，3个或4个，5个也行\n",
    "\n",
    "# store response vector in \"y\"      \n",
    "y = df.iloc[:,4]                            # slicing: all rows and 5th col 选取Mode 的列\n",
    "\n",
    "\n",
    "print(X)\n",
    "print(y.shape)"
   ]
  },
  {
   "cell_type": "code",
   "execution_count": 24,
   "metadata": {
    "colab": {
     "base_uri": "https://localhost:8080/",
     "height": 394
    },
    "colab_type": "code",
    "id": "kB8gT5veqYPL",
    "outputId": "5afb5c4e-988f-498c-9ac1-7d2d3c0775b2"
   },
   "outputs": [
    {
     "name": "stdout",
     "output_type": "stream",
     "text": [
      "Classes: [ 0  1  2  3  4  5  6  7  8  9 10]\n",
      "Response variable after encoding: [ 9  9  9 ...  3 10  7]\n"
     ]
    },
    {
     "data": {
      "text/html": [
       "<div>\n",
       "<style scoped>\n",
       "    .dataframe tbody tr th:only-of-type {\n",
       "        vertical-align: middle;\n",
       "    }\n",
       "\n",
       "    .dataframe tbody tr th {\n",
       "        vertical-align: top;\n",
       "    }\n",
       "\n",
       "    .dataframe thead th {\n",
       "        text-align: right;\n",
       "    }\n",
       "</style>\n",
       "<table border=\"1\" class=\"dataframe\">\n",
       "  <thead>\n",
       "    <tr style=\"text-align: right;\">\n",
       "      <th></th>\n",
       "      <th>average_speed</th>\n",
       "      <th>average_acceleration</th>\n",
       "      <th>max_speed</th>\n",
       "      <th>max_acceleration</th>\n",
       "      <th>mode</th>\n",
       "      <th>user_id</th>\n",
       "      <th>end_time</th>\n",
       "      <th>datetime</th>\n",
       "      <th>EncodedSpecies</th>\n",
       "    </tr>\n",
       "  </thead>\n",
       "  <tbody>\n",
       "    <tr>\n",
       "      <td>0</td>\n",
       "      <td>63.956277</td>\n",
       "      <td>0.001430</td>\n",
       "      <td>118.710639</td>\n",
       "      <td>0.068488</td>\n",
       "      <td>train</td>\n",
       "      <td>010</td>\n",
       "      <td>2008-03-28 22:01:19</td>\n",
       "      <td>2008-03-28 22:01:19</td>\n",
       "      <td>9</td>\n",
       "    </tr>\n",
       "    <tr>\n",
       "      <td>1</td>\n",
       "      <td>74.221753</td>\n",
       "      <td>0.001588</td>\n",
       "      <td>117.506273</td>\n",
       "      <td>0.074917</td>\n",
       "      <td>train</td>\n",
       "      <td>010</td>\n",
       "      <td>2008-03-29 10:03:00</td>\n",
       "      <td>2008-03-29 10:03:00</td>\n",
       "      <td>9</td>\n",
       "    </tr>\n",
       "    <tr>\n",
       "      <td>2</td>\n",
       "      <td>75.022218</td>\n",
       "      <td>0.001541</td>\n",
       "      <td>115.419248</td>\n",
       "      <td>0.073340</td>\n",
       "      <td>train</td>\n",
       "      <td>010</td>\n",
       "      <td>2008-03-29 16:33:24</td>\n",
       "      <td>2008-03-29 16:33:24</td>\n",
       "      <td>9</td>\n",
       "    </tr>\n",
       "    <tr>\n",
       "      <td>3</td>\n",
       "      <td>79.359841</td>\n",
       "      <td>0.004979</td>\n",
       "      <td>110.806526</td>\n",
       "      <td>0.064658</td>\n",
       "      <td>train</td>\n",
       "      <td>010</td>\n",
       "      <td>2008-03-30 02:46:32</td>\n",
       "      <td>2008-03-30 02:46:32</td>\n",
       "      <td>9</td>\n",
       "    </tr>\n",
       "    <tr>\n",
       "      <td>4</td>\n",
       "      <td>60.461406</td>\n",
       "      <td>0.056342</td>\n",
       "      <td>116.947948</td>\n",
       "      <td>0.072975</td>\n",
       "      <td>train</td>\n",
       "      <td>010</td>\n",
       "      <td>2008-03-30 04:16:59</td>\n",
       "      <td>2008-03-30 04:16:59</td>\n",
       "      <td>9</td>\n",
       "    </tr>\n",
       "    <tr>\n",
       "      <td>5</td>\n",
       "      <td>80.966227</td>\n",
       "      <td>0.004012</td>\n",
       "      <td>117.233138</td>\n",
       "      <td>0.079556</td>\n",
       "      <td>train</td>\n",
       "      <td>010</td>\n",
       "      <td>2008-03-30 07:55:28</td>\n",
       "      <td>2008-03-30 07:55:28</td>\n",
       "      <td>9</td>\n",
       "    </tr>\n",
       "    <tr>\n",
       "      <td>6</td>\n",
       "      <td>103.415071</td>\n",
       "      <td>0.017394</td>\n",
       "      <td>111.463037</td>\n",
       "      <td>0.033182</td>\n",
       "      <td>train</td>\n",
       "      <td>010</td>\n",
       "      <td>2008-03-30 08:58:19</td>\n",
       "      <td>2008-03-30 08:58:19</td>\n",
       "      <td>9</td>\n",
       "    </tr>\n",
       "    <tr>\n",
       "      <td>7</td>\n",
       "      <td>10.313803</td>\n",
       "      <td>0.027118</td>\n",
       "      <td>19.568245</td>\n",
       "      <td>0.051790</td>\n",
       "      <td>train</td>\n",
       "      <td>010</td>\n",
       "      <td>2008-03-30 09:09:42</td>\n",
       "      <td>2008-03-30 09:09:42</td>\n",
       "      <td>9</td>\n",
       "    </tr>\n",
       "    <tr>\n",
       "      <td>8</td>\n",
       "      <td>61.650801</td>\n",
       "      <td>0.000207</td>\n",
       "      <td>108.011374</td>\n",
       "      <td>0.051775</td>\n",
       "      <td>train</td>\n",
       "      <td>010</td>\n",
       "      <td>2008-03-30 19:41:56</td>\n",
       "      <td>2008-03-30 19:41:56</td>\n",
       "      <td>9</td>\n",
       "    </tr>\n",
       "    <tr>\n",
       "      <td>9</td>\n",
       "      <td>47.696436</td>\n",
       "      <td>0.069951</td>\n",
       "      <td>105.567567</td>\n",
       "      <td>0.029216</td>\n",
       "      <td>train</td>\n",
       "      <td>010</td>\n",
       "      <td>2008-03-30 23:25:31</td>\n",
       "      <td>2008-03-30 23:25:31</td>\n",
       "      <td>9</td>\n",
       "    </tr>\n",
       "  </tbody>\n",
       "</table>\n",
       "</div>"
      ],
      "text/plain": [
       "   average_speed  average_acceleration   max_speed  max_acceleration   mode  \\\n",
       "0      63.956277              0.001430  118.710639          0.068488  train   \n",
       "1      74.221753              0.001588  117.506273          0.074917  train   \n",
       "2      75.022218              0.001541  115.419248          0.073340  train   \n",
       "3      79.359841              0.004979  110.806526          0.064658  train   \n",
       "4      60.461406              0.056342  116.947948          0.072975  train   \n",
       "5      80.966227              0.004012  117.233138          0.079556  train   \n",
       "6     103.415071              0.017394  111.463037          0.033182  train   \n",
       "7      10.313803              0.027118   19.568245          0.051790  train   \n",
       "8      61.650801              0.000207  108.011374          0.051775  train   \n",
       "9      47.696436              0.069951  105.567567          0.029216  train   \n",
       "\n",
       "  user_id             end_time            datetime  EncodedSpecies  \n",
       "0     010  2008-03-28 22:01:19 2008-03-28 22:01:19               9  \n",
       "1     010  2008-03-29 10:03:00 2008-03-29 10:03:00               9  \n",
       "2     010  2008-03-29 16:33:24 2008-03-29 16:33:24               9  \n",
       "3     010  2008-03-30 02:46:32 2008-03-30 02:46:32               9  \n",
       "4     010  2008-03-30 04:16:59 2008-03-30 04:16:59               9  \n",
       "5     010  2008-03-30 07:55:28 2008-03-30 07:55:28               9  \n",
       "6     010  2008-03-30 08:58:19 2008-03-30 08:58:19               9  \n",
       "7     010  2008-03-30 09:09:42 2008-03-30 09:09:42               9  \n",
       "8     010  2008-03-30 19:41:56 2008-03-30 19:41:56               9  \n",
       "9     010  2008-03-30 23:25:31 2008-03-30 23:25:31               9  "
      ]
     },
     "execution_count": 24,
     "metadata": {},
     "output_type": "execute_result"
    }
   ],
   "source": [
    "# Convert response variable 'Species' to numbers and add this column  这里改个名字就行了，df改成gdf\n",
    "# Necessary for the model training in the next step \n",
    "\n",
    "# Read more: http://scikit-learn.org/stable/modules/generated/sklearn.preprocessing.LabelEncoder.html\n",
    "from sklearn import preprocessing\n",
    "\n",
    "le = preprocessing.LabelEncoder()\n",
    "le.fit(y)\n",
    "y = le.transform(y)\n",
    "\n",
    "# new col\n",
    "df['EncodedSpecies'] = y\n",
    "\n",
    "print('Classes:',le.classes_)\n",
    "print('Response variable after encoding:',y)\n",
    "df.head(10)"
   ]
  },
  {
   "cell_type": "code",
   "execution_count": 25,
   "metadata": {
    "colab": {},
    "colab_type": "code",
    "id": "erPHZMlyqbjM"
   },
   "outputs": [],
   "source": [
    "# Split X and y into training and testing sets\n",
    "\n",
    "# Read more: https://scikit-learn.org/stable/modules/generated/sklearn.model_selection.train_test_split.html\n",
    "\n",
    "from sklearn.model_selection import train_test_split\n",
    "\n",
    "X_train, X_test, y_train, y_test = train_test_split(X, y, test_size=0.1, random_state=4) #0.4 表示4—6分。取40% \n",
    "# 0.4这里改成0.1或0.2"
   ]
  },
  {
   "cell_type": "code",
   "execution_count": 26,
   "metadata": {
    "colab": {},
    "colab_type": "code",
    "id": "UsjVks1OqfBs"
   },
   "outputs": [],
   "source": [
    "import pandas as pd \n",
    "import matplotlib.pyplot as plt\n",
    "import numpy as np\n",
    "import matplotlib.pyplot as plt\n",
    "from matplotlib.colors import ListedColormap\n",
    "from sklearn import preprocessing\n",
    "from sklearn.model_selection  import train_test_split\n",
    "from sklearn.neighbors import KNeighborsClassifier"
   ]
  },
  {
   "cell_type": "code",
   "execution_count": 27,
   "metadata": {
    "colab": {
     "base_uri": "https://localhost:8080/",
     "height": 248
    },
    "colab_type": "code",
    "id": "kKPHz9FHqhHK",
    "outputId": "1d65771e-be5b-452c-e636-0b5fac71778a"
   },
   "outputs": [
    {
     "name": "stderr",
     "output_type": "stream",
     "text": [
      "C:\\Users\\moxi\\Anaconda3\\lib\\site-packages\\sklearn\\linear_model\\logistic.py:432: FutureWarning: Default solver will be changed to 'lbfgs' in 0.22. Specify a solver to silence this warning.\n",
      "  FutureWarning)\n",
      "C:\\Users\\moxi\\Anaconda3\\lib\\site-packages\\sklearn\\linear_model\\logistic.py:469: FutureWarning: Default multi_class will be changed to 'auto' in 0.22. Specify the multi_class option to silence this warning.\n",
      "  \"this warning.\", FutureWarning)\n"
     ]
    },
    {
     "data": {
      "text/plain": [
       "LogisticRegression(C=1.0, class_weight=None, dual=False, fit_intercept=True,\n",
       "                   intercept_scaling=1, l1_ratio=None, max_iter=100,\n",
       "                   multi_class='warn', n_jobs=None, penalty='l2',\n",
       "                   random_state=None, solver='warn', tol=0.0001, verbose=0,\n",
       "                   warm_start=False)"
      ]
     },
     "execution_count": 27,
     "metadata": {},
     "output_type": "execute_result"
    }
   ],
   "source": [
    "# alternative logistic regression model\n",
    "# Training \n",
    "# import the class 没有什么可改的\n",
    "from sklearn.linear_model import LogisticRegression\n",
    "\n",
    "# instantiate the model (using the default parameters)\n",
    "logreg = LogisticRegression()\n",
    "\n",
    "X_scaled = preprocessing.scale(X_train)\n",
    "\n",
    "# fit the model with data\n",
    "logreg.fit(X_scaled, y_train)"
   ]
  },
  {
   "cell_type": "code",
   "execution_count": 28,
   "metadata": {
    "colab": {
     "base_uri": "https://localhost:8080/",
     "height": 35
    },
    "colab_type": "code",
    "id": "KldeZL-pqx49",
    "outputId": "913dafc9-80bc-4369-cc21-10857eed5cdb"
   },
   "outputs": [
    {
     "data": {
      "text/plain": [
       "0.18669690098261527"
      ]
     },
     "execution_count": 28,
     "metadata": {},
     "output_type": "execute_result"
    }
   ],
   "source": [
    "#Evaluation classification accuracy\n",
    "from sklearn import metrics\n",
    "\n",
    "y_pred = logreg.predict(X_test)\n",
    "\n",
    "metrics.accuracy_score(y_pred, y_test)"
   ]
  }
 ],
 "metadata": {
  "colab": {
   "collapsed_sections": [],
   "name": "machine Lerning logistic regression classification.ipynb",
   "provenance": []
  },
  "kernelspec": {
   "display_name": "Python 3",
   "language": "python",
   "name": "python3"
  },
  "language_info": {
   "codemirror_mode": {
    "name": "ipython",
    "version": 3
   },
   "file_extension": ".py",
   "mimetype": "text/x-python",
   "name": "python",
   "nbconvert_exporter": "python",
   "pygments_lexer": "ipython3",
   "version": "3.7.4"
  }
 },
 "nbformat": 4,
 "nbformat_minor": 1
}
