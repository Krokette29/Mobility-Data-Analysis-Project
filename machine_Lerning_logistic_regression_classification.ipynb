{
  "nbformat": 4,
  "nbformat_minor": 0,
  "metadata": {
    "colab": {
      "name": "machine Lerning logistic regression classification.ipynb",
      "provenance": [],
      "collapsed_sections": []
    },
    "kernelspec": {
      "name": "python3",
      "display_name": "Python 3"
    }
  },
  "cells": [
    {
      "cell_type": "code",
      "metadata": {
        "id": "JxQjxV0Jpqph",
        "colab_type": "code",
        "outputId": "6b2a69a2-9765-4fc8-a27f-1b2fd523ec2f",
        "colab": {
          "base_uri": "https://localhost:8080/",
          "height": 35
        }
      },
      "source": [
        "#@title Default title text\n",
        "from google.colab import drive\n",
        "drive.mount('/content/drive')"
      ],
      "execution_count": 0,
      "outputs": [
        {
          "output_type": "stream",
          "text": [
            "Drive already mounted at /content/drive; to attempt to forcibly remount, call drive.mount(\"/content/drive\", force_remount=True).\n"
          ],
          "name": "stdout"
        }
      ]
    },
    {
      "cell_type": "code",
      "metadata": {
        "id": "LxscEn3Fp0Kq",
        "colab_type": "code",
        "colab": {}
      },
      "source": [
        "path = \"./drive/My Drive/Data/df_all.csv\" #path 是文件路径"
      ],
      "execution_count": 0,
      "outputs": []
    },
    {
      "cell_type": "code",
      "metadata": {
        "id": "hoc018Zhp2Yw",
        "colab_type": "code",
        "colab": {}
      },
      "source": [
        "from uutils import data_importer"
      ],
      "execution_count": 0,
      "outputs": []
    },
    {
      "cell_type": "code",
      "metadata": {
        "id": "SAPMerLdp2-V",
        "colab_type": "code",
        "outputId": "9f1e4fe2-0a46-4d9e-dd12-885dc3441d06",
        "colab": {
          "base_uri": "https://localhost:8080/",
          "height": 35
        }
      },
      "source": [
        "from google.colab import drive\n",
        "drive.mount('/content/drive')"
      ],
      "execution_count": 0,
      "outputs": [
        {
          "output_type": "stream",
          "text": [
            "Drive already mounted at /content/drive; to attempt to forcibly remount, call drive.mount(\"/content/drive\", force_remount=True).\n"
          ],
          "name": "stdout"
        }
      ]
    },
    {
      "cell_type": "code",
      "metadata": {
        "id": "l2HpC0C-qAT7",
        "colab_type": "code",
        "outputId": "fb64d622-79ef-4320-9cc1-342bb21731c8",
        "colab": {
          "base_uri": "https://localhost:8080/",
          "height": 126
        }
      },
      "source": [
        "gdf = data_importer(path)"
      ],
      "execution_count": 0,
      "outputs": [
        {
          "output_type": "stream",
          "text": [
            "Importing data...\n"
          ],
          "name": "stdout"
        },
        {
          "output_type": "stream",
          "text": [
            "/usr/local/lib/python3.6/dist-packages/IPython/core/interactiveshell.py:2822: DtypeWarning: Columns (5) have mixed types. Specify dtype option on import or set low_memory=False.\n",
            "  if self.run_code(code, result):\n"
          ],
          "name": "stderr"
        },
        {
          "output_type": "stream",
          "text": [
            "Import complete! Wait a little moment for some other settings...\n",
            "All complete!\n"
          ],
          "name": "stdout"
        }
      ]
    },
    {
      "cell_type": "code",
      "metadata": {
        "id": "5QPFUf6BqC6P",
        "colab_type": "code",
        "outputId": "aaf7ff12-549e-400f-f7d7-9074f6a850e9",
        "colab": {
          "base_uri": "https://localhost:8080/",
          "height": 399
        }
      },
      "source": [
        "gdf"
      ],
      "execution_count": 0,
      "outputs": [
        {
          "output_type": "execute_result",
          "data": {
            "text/html": [
              "<div>\n",
              "<style scoped>\n",
              "    .dataframe tbody tr th:only-of-type {\n",
              "        vertical-align: middle;\n",
              "    }\n",
              "\n",
              "    .dataframe tbody tr th {\n",
              "        vertical-align: top;\n",
              "    }\n",
              "\n",
              "    .dataframe thead th {\n",
              "        text-align: right;\n",
              "    }\n",
              "</style>\n",
              "<table border=\"1\" class=\"dataframe\">\n",
              "  <thead>\n",
              "    <tr style=\"text-align: right;\">\n",
              "      <th></th>\n",
              "      <th>datetime</th>\n",
              "      <th>altitude</th>\n",
              "      <th>days_elapsed</th>\n",
              "      <th>latitude</th>\n",
              "      <th>longitude</th>\n",
              "      <th>mode</th>\n",
              "      <th>user_id</th>\n",
              "      <th>distance</th>\n",
              "      <th>speed</th>\n",
              "      <th>acceleration</th>\n",
              "      <th>geometry</th>\n",
              "    </tr>\n",
              "  </thead>\n",
              "  <tbody>\n",
              "    <tr>\n",
              "      <th>0</th>\n",
              "      <td>2008-03-28 14:54:40</td>\n",
              "      <td>-777.0</td>\n",
              "      <td>39535.621296</td>\n",
              "      <td>39.894178</td>\n",
              "      <td>116.318200</td>\n",
              "      <td>train</td>\n",
              "      <td>010</td>\n",
              "      <td>0.000000</td>\n",
              "      <td>0.000000</td>\n",
              "      <td>0.000000e+00</td>\n",
              "      <td>POINT (116.31820 39.89418)</td>\n",
              "    </tr>\n",
              "    <tr>\n",
              "      <th>1</th>\n",
              "      <td>2008-03-28 14:55:14</td>\n",
              "      <td>-777.0</td>\n",
              "      <td>39535.621690</td>\n",
              "      <td>39.894505</td>\n",
              "      <td>116.321132</td>\n",
              "      <td>train</td>\n",
              "      <td>010</td>\n",
              "      <td>253.375124</td>\n",
              "      <td>26.827954</td>\n",
              "      <td>2.191826e-01</td>\n",
              "      <td>POINT (116.32113 39.89451)</td>\n",
              "    </tr>\n",
              "    <tr>\n",
              "      <th>2</th>\n",
              "      <td>2008-03-28 14:56:13</td>\n",
              "      <td>-777.0</td>\n",
              "      <td>39535.622373</td>\n",
              "      <td>39.894953</td>\n",
              "      <td>116.326452</td>\n",
              "      <td>train</td>\n",
              "      <td>010</td>\n",
              "      <td>457.703187</td>\n",
              "      <td>27.927652</td>\n",
              "      <td>5.177485e-03</td>\n",
              "      <td>POINT (116.32645 39.89495)</td>\n",
              "    </tr>\n",
              "    <tr>\n",
              "      <th>3</th>\n",
              "      <td>2008-03-28 14:57:12</td>\n",
              "      <td>-777.0</td>\n",
              "      <td>39535.623056</td>\n",
              "      <td>39.894600</td>\n",
              "      <td>116.332542</td>\n",
              "      <td>train</td>\n",
              "      <td>010</td>\n",
              "      <td>522.318591</td>\n",
              "      <td>31.870287</td>\n",
              "      <td>1.856231e-02</td>\n",
              "      <td>POINT (116.33254 39.89460)</td>\n",
              "    </tr>\n",
              "    <tr>\n",
              "      <th>4</th>\n",
              "      <td>2008-03-28 14:58:11</td>\n",
              "      <td>-777.0</td>\n",
              "      <td>39535.623738</td>\n",
              "      <td>39.889622</td>\n",
              "      <td>116.337040</td>\n",
              "      <td>train</td>\n",
              "      <td>010</td>\n",
              "      <td>673.422399</td>\n",
              "      <td>41.090180</td>\n",
              "      <td>4.340816e-02</td>\n",
              "      <td>POINT (116.33704 39.88962)</td>\n",
              "    </tr>\n",
              "    <tr>\n",
              "      <th>...</th>\n",
              "      <td>...</td>\n",
              "      <td>...</td>\n",
              "      <td>...</td>\n",
              "      <td>...</td>\n",
              "      <td>...</td>\n",
              "      <td>...</td>\n",
              "      <td>...</td>\n",
              "      <td>...</td>\n",
              "      <td>...</td>\n",
              "      <td>...</td>\n",
              "      <td>...</td>\n",
              "    </tr>\n",
              "    <tr>\n",
              "      <th>5351928</th>\n",
              "      <td>2008-11-29 02:29:29</td>\n",
              "      <td>289.0</td>\n",
              "      <td>39781.103808</td>\n",
              "      <td>40.029320</td>\n",
              "      <td>116.411975</td>\n",
              "      <td>subway</td>\n",
              "      <td>179</td>\n",
              "      <td>23.206984</td>\n",
              "      <td>41.772572</td>\n",
              "      <td>-2.795354e-02</td>\n",
              "      <td>POINT (116.41197 40.02932)</td>\n",
              "    </tr>\n",
              "    <tr>\n",
              "      <th>5351929</th>\n",
              "      <td>2008-11-29 02:29:31</td>\n",
              "      <td>275.0</td>\n",
              "      <td>39781.103831</td>\n",
              "      <td>40.029111</td>\n",
              "      <td>116.411963</td>\n",
              "      <td>subway</td>\n",
              "      <td>179</td>\n",
              "      <td>23.228950</td>\n",
              "      <td>41.812110</td>\n",
              "      <td>5.491364e-03</td>\n",
              "      <td>POINT (116.41196 40.02911)</td>\n",
              "    </tr>\n",
              "    <tr>\n",
              "      <th>5351930</th>\n",
              "      <td>2008-11-29 02:29:33</td>\n",
              "      <td>274.0</td>\n",
              "      <td>39781.103854</td>\n",
              "      <td>40.028904</td>\n",
              "      <td>116.411962</td>\n",
              "      <td>subway</td>\n",
              "      <td>179</td>\n",
              "      <td>22.984443</td>\n",
              "      <td>41.371997</td>\n",
              "      <td>-6.112673e-02</td>\n",
              "      <td>POINT (116.41196 40.02890)</td>\n",
              "    </tr>\n",
              "    <tr>\n",
              "      <th>5351931</th>\n",
              "      <td>2008-11-29 02:29:35</td>\n",
              "      <td>274.0</td>\n",
              "      <td>39781.103877</td>\n",
              "      <td>40.028697</td>\n",
              "      <td>116.411961</td>\n",
              "      <td>subway</td>\n",
              "      <td>179</td>\n",
              "      <td>22.984442</td>\n",
              "      <td>41.371996</td>\n",
              "      <td>-2.061781e-07</td>\n",
              "      <td>POINT (116.41196 40.02870)</td>\n",
              "    </tr>\n",
              "    <tr>\n",
              "      <th>5351932</th>\n",
              "      <td>2008-11-29 02:43:37</td>\n",
              "      <td>333.0</td>\n",
              "      <td>39781.113623</td>\n",
              "      <td>39.967705</td>\n",
              "      <td>116.412042</td>\n",
              "      <td>subway</td>\n",
              "      <td>179</td>\n",
              "      <td>0.000000</td>\n",
              "      <td>0.000000</td>\n",
              "      <td>0.000000e+00</td>\n",
              "      <td>POINT (116.41204 39.96771)</td>\n",
              "    </tr>\n",
              "  </tbody>\n",
              "</table>\n",
              "<p>5351933 rows × 11 columns</p>\n",
              "</div>"
            ],
            "text/plain": [
              "                   datetime  altitude  ...  acceleration                    geometry\n",
              "0       2008-03-28 14:54:40    -777.0  ...  0.000000e+00  POINT (116.31820 39.89418)\n",
              "1       2008-03-28 14:55:14    -777.0  ...  2.191826e-01  POINT (116.32113 39.89451)\n",
              "2       2008-03-28 14:56:13    -777.0  ...  5.177485e-03  POINT (116.32645 39.89495)\n",
              "3       2008-03-28 14:57:12    -777.0  ...  1.856231e-02  POINT (116.33254 39.89460)\n",
              "4       2008-03-28 14:58:11    -777.0  ...  4.340816e-02  POINT (116.33704 39.88962)\n",
              "...                     ...       ...  ...           ...                         ...\n",
              "5351928 2008-11-29 02:29:29     289.0  ... -2.795354e-02  POINT (116.41197 40.02932)\n",
              "5351929 2008-11-29 02:29:31     275.0  ...  5.491364e-03  POINT (116.41196 40.02911)\n",
              "5351930 2008-11-29 02:29:33     274.0  ... -6.112673e-02  POINT (116.41196 40.02890)\n",
              "5351931 2008-11-29 02:29:35     274.0  ... -2.061781e-07  POINT (116.41196 40.02870)\n",
              "5351932 2008-11-29 02:43:37     333.0  ...  0.000000e+00  POINT (116.41204 39.96771)\n",
              "\n",
              "[5351933 rows x 11 columns]"
            ]
          },
          "metadata": {
            "tags": []
          },
          "execution_count": 29
        }
      ]
    },
    {
      "cell_type": "code",
      "metadata": {
        "id": "GbyppkYxqPHT",
        "colab_type": "code",
        "outputId": "42ba2fa0-17e9-40ba-8579-51d9ef3617a1",
        "colab": {
          "base_uri": "https://localhost:8080/",
          "height": 35
        }
      },
      "source": [
        "from google.colab import drive\n",
        "drive.mount('/content/drive')"
      ],
      "execution_count": 0,
      "outputs": [
        {
          "output_type": "stream",
          "text": [
            "Drive already mounted at /content/drive; to attempt to forcibly remount, call drive.mount(\"/content/drive\", force_remount=True).\n"
          ],
          "name": "stdout"
        }
      ]
    },
    {
      "cell_type": "code",
      "metadata": {
        "id": "X7BtgRCEqSt7",
        "colab_type": "code",
        "outputId": "71944fa6-5701-42ac-fb78-a517f91fd76c",
        "colab": {
          "base_uri": "https://localhost:8080/",
          "height": 52
        }
      },
      "source": [
        "print(gdf['mode'].unique())"
      ],
      "execution_count": 0,
      "outputs": [
        {
          "output_type": "stream",
          "text": [
            "['train' 'taxi' 'walk' 'bus' 'subway' 'airplane' 'car' 'bike' 'boat' 'run'\n",
            " 'motorcycle']\n"
          ],
          "name": "stdout"
        }
      ]
    },
    {
      "cell_type": "code",
      "metadata": {
        "id": "MbnLonnnqV1u",
        "colab_type": "code",
        "outputId": "ec3b5625-e352-4298-86cc-6af915fcbc69",
        "colab": {
          "base_uri": "https://localhost:8080/",
          "height": 319
        }
      },
      "source": [
        "# Separat independent features and dependant feature(target)\n",
        "\n",
        "feature1 = gdf.columns[1]\n",
        "feature2 = gdf.columns[8]\n",
        "feature3 = gdf.columns[9]\n",
        "feature4 = gdf.columns[3]\n",
        "feature5 = gdf.columns[4]           # SepalLengthCm\tSepalWidthCm\tPetalLengthCm\tPetalWidthCm\t\n",
        "target = gdf.columns[5]                      # Species 这里的features 对应选取多少个列，3，4，5，\n",
        "\n",
        "print('Features:',feature1,feature2,feature3,feature4,feature5)\n",
        "print('Target:',target)\n",
        "\n",
        "# store feature matrix in \"X\"\n",
        "X = gdf.iloc[:,[1,3,4,8,9]]                  # slicing: all rows and 1 to 2 cols （slicing:限制 这里选取对应的列，3个或4个，5个也行\n",
        "\n",
        "# store response vector in \"y\"      \n",
        "y = gdf.iloc[:,5]                            # slicing: all rows and 5th col 选取Mode 的列\n",
        "\n",
        "\n",
        "print(X)\n",
        "print(y.shape)"
      ],
      "execution_count": 0,
      "outputs": [
        {
          "output_type": "stream",
          "text": [
            "Features: altitude speed acceleration latitude longitude\n",
            "Target: mode\n",
            "         altitude   latitude   longitude      speed  acceleration\n",
            "0          -777.0  39.894178  116.318200   0.000000  0.000000e+00\n",
            "1          -777.0  39.894505  116.321132  26.827954  2.191826e-01\n",
            "2          -777.0  39.894953  116.326452  27.927652  5.177485e-03\n",
            "3          -777.0  39.894600  116.332542  31.870287  1.856231e-02\n",
            "4          -777.0  39.889622  116.337040  41.090180  4.340816e-02\n",
            "...           ...        ...         ...        ...           ...\n",
            "5351928     289.0  40.029320  116.411975  41.772572 -2.795354e-02\n",
            "5351929     275.0  40.029111  116.411963  41.812110  5.491364e-03\n",
            "5351930     274.0  40.028904  116.411962  41.371997 -6.112673e-02\n",
            "5351931     274.0  40.028697  116.411961  41.371996 -2.061781e-07\n",
            "5351932     333.0  39.967705  116.412042   0.000000  0.000000e+00\n",
            "\n",
            "[5351933 rows x 5 columns]\n",
            "(5351933,)\n"
          ],
          "name": "stdout"
        }
      ]
    },
    {
      "cell_type": "code",
      "metadata": {
        "id": "kB8gT5veqYPL",
        "colab_type": "code",
        "outputId": "5afb5c4e-988f-498c-9ac1-7d2d3c0775b2",
        "colab": {
          "base_uri": "https://localhost:8080/",
          "height": 394
        }
      },
      "source": [
        "# Convert response variable 'Species' to numbers and add this column  这里改个名字就行了，df改成gdf\n",
        "# Necessary for the model training in the next step \n",
        "\n",
        "# Read more: http://scikit-learn.org/stable/modules/generated/sklearn.preprocessing.LabelEncoder.html\n",
        "from sklearn import preprocessing\n",
        "\n",
        "le = preprocessing.LabelEncoder()\n",
        "le.fit(y)\n",
        "y = le.transform(y)\n",
        "\n",
        "# new col\n",
        "gdf['EncodedSpecies'] = y\n",
        "\n",
        "print('Classes:',le.classes_)\n",
        "print('Response variable after encoding:',y)\n",
        "gdf.head(10)"
      ],
      "execution_count": 0,
      "outputs": [
        {
          "output_type": "stream",
          "text": [
            "Classes: ['airplane' 'bike' 'boat' 'bus' 'car' 'motorcycle' 'run' 'subway' 'taxi'\n",
            " 'train' 'walk']\n",
            "Response variable after encoding: [9 9 9 ... 7 7 7]\n"
          ],
          "name": "stdout"
        },
        {
          "output_type": "execute_result",
          "data": {
            "text/html": [
              "<div>\n",
              "<style scoped>\n",
              "    .dataframe tbody tr th:only-of-type {\n",
              "        vertical-align: middle;\n",
              "    }\n",
              "\n",
              "    .dataframe tbody tr th {\n",
              "        vertical-align: top;\n",
              "    }\n",
              "\n",
              "    .dataframe thead th {\n",
              "        text-align: right;\n",
              "    }\n",
              "</style>\n",
              "<table border=\"1\" class=\"dataframe\">\n",
              "  <thead>\n",
              "    <tr style=\"text-align: right;\">\n",
              "      <th></th>\n",
              "      <th>datetime</th>\n",
              "      <th>altitude</th>\n",
              "      <th>days_elapsed</th>\n",
              "      <th>latitude</th>\n",
              "      <th>longitude</th>\n",
              "      <th>mode</th>\n",
              "      <th>user_id</th>\n",
              "      <th>distance</th>\n",
              "      <th>speed</th>\n",
              "      <th>acceleration</th>\n",
              "      <th>geometry</th>\n",
              "      <th>EncodedSpecies</th>\n",
              "    </tr>\n",
              "  </thead>\n",
              "  <tbody>\n",
              "    <tr>\n",
              "      <th>0</th>\n",
              "      <td>2008-03-28 14:54:40</td>\n",
              "      <td>-777.0</td>\n",
              "      <td>39535.621296</td>\n",
              "      <td>39.894178</td>\n",
              "      <td>116.318200</td>\n",
              "      <td>train</td>\n",
              "      <td>010</td>\n",
              "      <td>0.000000</td>\n",
              "      <td>0.000000</td>\n",
              "      <td>0.000000</td>\n",
              "      <td>POINT (116.31820 39.89418)</td>\n",
              "      <td>9</td>\n",
              "    </tr>\n",
              "    <tr>\n",
              "      <th>1</th>\n",
              "      <td>2008-03-28 14:55:14</td>\n",
              "      <td>-777.0</td>\n",
              "      <td>39535.621690</td>\n",
              "      <td>39.894505</td>\n",
              "      <td>116.321132</td>\n",
              "      <td>train</td>\n",
              "      <td>010</td>\n",
              "      <td>253.375124</td>\n",
              "      <td>26.827954</td>\n",
              "      <td>0.219183</td>\n",
              "      <td>POINT (116.32113 39.89451)</td>\n",
              "      <td>9</td>\n",
              "    </tr>\n",
              "    <tr>\n",
              "      <th>2</th>\n",
              "      <td>2008-03-28 14:56:13</td>\n",
              "      <td>-777.0</td>\n",
              "      <td>39535.622373</td>\n",
              "      <td>39.894953</td>\n",
              "      <td>116.326452</td>\n",
              "      <td>train</td>\n",
              "      <td>010</td>\n",
              "      <td>457.703187</td>\n",
              "      <td>27.927652</td>\n",
              "      <td>0.005177</td>\n",
              "      <td>POINT (116.32645 39.89495)</td>\n",
              "      <td>9</td>\n",
              "    </tr>\n",
              "    <tr>\n",
              "      <th>3</th>\n",
              "      <td>2008-03-28 14:57:12</td>\n",
              "      <td>-777.0</td>\n",
              "      <td>39535.623056</td>\n",
              "      <td>39.894600</td>\n",
              "      <td>116.332542</td>\n",
              "      <td>train</td>\n",
              "      <td>010</td>\n",
              "      <td>522.318591</td>\n",
              "      <td>31.870287</td>\n",
              "      <td>0.018562</td>\n",
              "      <td>POINT (116.33254 39.89460)</td>\n",
              "      <td>9</td>\n",
              "    </tr>\n",
              "    <tr>\n",
              "      <th>4</th>\n",
              "      <td>2008-03-28 14:58:11</td>\n",
              "      <td>-777.0</td>\n",
              "      <td>39535.623738</td>\n",
              "      <td>39.889622</td>\n",
              "      <td>116.337040</td>\n",
              "      <td>train</td>\n",
              "      <td>010</td>\n",
              "      <td>673.422399</td>\n",
              "      <td>41.090180</td>\n",
              "      <td>0.043408</td>\n",
              "      <td>POINT (116.33704 39.88962)</td>\n",
              "      <td>9</td>\n",
              "    </tr>\n",
              "    <tr>\n",
              "      <th>5</th>\n",
              "      <td>2008-03-28 14:59:10</td>\n",
              "      <td>-777.0</td>\n",
              "      <td>39535.624421</td>\n",
              "      <td>39.882090</td>\n",
              "      <td>116.338353</td>\n",
              "      <td>train</td>\n",
              "      <td>010</td>\n",
              "      <td>843.803760</td>\n",
              "      <td>51.486331</td>\n",
              "      <td>0.048946</td>\n",
              "      <td>POINT (116.33835 39.88209)</td>\n",
              "      <td>9</td>\n",
              "    </tr>\n",
              "    <tr>\n",
              "      <th>6</th>\n",
              "      <td>2008-03-28 15:00:10</td>\n",
              "      <td>-777.0</td>\n",
              "      <td>39535.625116</td>\n",
              "      <td>39.873873</td>\n",
              "      <td>116.338455</td>\n",
              "      <td>train</td>\n",
              "      <td>010</td>\n",
              "      <td>912.394041</td>\n",
              "      <td>54.743642</td>\n",
              "      <td>0.015080</td>\n",
              "      <td>POINT (116.33846 39.87387)</td>\n",
              "      <td>9</td>\n",
              "    </tr>\n",
              "    <tr>\n",
              "      <th>7</th>\n",
              "      <td>2008-03-28 15:01:09</td>\n",
              "      <td>-777.0</td>\n",
              "      <td>39535.625799</td>\n",
              "      <td>39.865182</td>\n",
              "      <td>116.338058</td>\n",
              "      <td>train</td>\n",
              "      <td>010</td>\n",
              "      <td>965.577796</td>\n",
              "      <td>58.916611</td>\n",
              "      <td>0.019647</td>\n",
              "      <td>POINT (116.33806 39.86518)</td>\n",
              "      <td>9</td>\n",
              "    </tr>\n",
              "    <tr>\n",
              "      <th>8</th>\n",
              "      <td>2008-03-28 15:02:08</td>\n",
              "      <td>-777.0</td>\n",
              "      <td>39535.626481</td>\n",
              "      <td>39.855403</td>\n",
              "      <td>116.337710</td>\n",
              "      <td>train</td>\n",
              "      <td>010</td>\n",
              "      <td>1086.189677</td>\n",
              "      <td>66.275980</td>\n",
              "      <td>0.034649</td>\n",
              "      <td>POINT (116.33771 39.85540)</td>\n",
              "      <td>9</td>\n",
              "    </tr>\n",
              "    <tr>\n",
              "      <th>9</th>\n",
              "      <td>2008-03-28 15:03:07</td>\n",
              "      <td>-777.0</td>\n",
              "      <td>39535.627164</td>\n",
              "      <td>39.844532</td>\n",
              "      <td>116.334362</td>\n",
              "      <td>train</td>\n",
              "      <td>010</td>\n",
              "      <td>1240.567528</td>\n",
              "      <td>75.695646</td>\n",
              "      <td>0.044349</td>\n",
              "      <td>POINT (116.33436 39.84453)</td>\n",
              "      <td>9</td>\n",
              "    </tr>\n",
              "  </tbody>\n",
              "</table>\n",
              "</div>"
            ],
            "text/plain": [
              "             datetime  altitude  ...                    geometry  EncodedSpecies\n",
              "0 2008-03-28 14:54:40    -777.0  ...  POINT (116.31820 39.89418)               9\n",
              "1 2008-03-28 14:55:14    -777.0  ...  POINT (116.32113 39.89451)               9\n",
              "2 2008-03-28 14:56:13    -777.0  ...  POINT (116.32645 39.89495)               9\n",
              "3 2008-03-28 14:57:12    -777.0  ...  POINT (116.33254 39.89460)               9\n",
              "4 2008-03-28 14:58:11    -777.0  ...  POINT (116.33704 39.88962)               9\n",
              "5 2008-03-28 14:59:10    -777.0  ...  POINT (116.33835 39.88209)               9\n",
              "6 2008-03-28 15:00:10    -777.0  ...  POINT (116.33846 39.87387)               9\n",
              "7 2008-03-28 15:01:09    -777.0  ...  POINT (116.33806 39.86518)               9\n",
              "8 2008-03-28 15:02:08    -777.0  ...  POINT (116.33771 39.85540)               9\n",
              "9 2008-03-28 15:03:07    -777.0  ...  POINT (116.33436 39.84453)               9\n",
              "\n",
              "[10 rows x 12 columns]"
            ]
          },
          "metadata": {
            "tags": []
          },
          "execution_count": 33
        }
      ]
    },
    {
      "cell_type": "code",
      "metadata": {
        "id": "erPHZMlyqbjM",
        "colab_type": "code",
        "colab": {}
      },
      "source": [
        "# Split X and y into training and testing sets\n",
        "\n",
        "# Read more: https://scikit-learn.org/stable/modules/generated/sklearn.model_selection.train_test_split.html\n",
        "\n",
        "from sklearn.model_selection import train_test_split\n",
        "\n",
        "X_train, X_test, y_train, y_test = train_test_split(X, y, test_size=0.1, random_state=4) #0.4 表示4—6分。取40% \n",
        "# 0.4这里改成0.1或0.2"
      ],
      "execution_count": 0,
      "outputs": []
    },
    {
      "cell_type": "code",
      "metadata": {
        "id": "UsjVks1OqfBs",
        "colab_type": "code",
        "colab": {}
      },
      "source": [
        "import pandas as pd \n",
        "import matplotlib.pyplot as plt\n",
        "import numpy as np\n",
        "import matplotlib.pyplot as plt\n",
        "from matplotlib.colors import ListedColormap\n",
        "from sklearn import preprocessing\n",
        "from sklearn.model_selection  import train_test_split\n",
        "from sklearn.neighbors import KNeighborsClassifier"
      ],
      "execution_count": 0,
      "outputs": []
    },
    {
      "cell_type": "code",
      "metadata": {
        "id": "kKPHz9FHqhHK",
        "colab_type": "code",
        "outputId": "1d65771e-be5b-452c-e636-0b5fac71778a",
        "colab": {
          "base_uri": "https://localhost:8080/",
          "height": 248
        }
      },
      "source": [
        "# alternative logistic regression model\n",
        "# Training \n",
        "# import the class 没有什么可改的\n",
        "from sklearn.linear_model import LogisticRegression\n",
        "\n",
        "# instantiate the model (using the default parameters)\n",
        "logreg = LogisticRegression()\n",
        "\n",
        "X_scaled = preprocessing.scale(X_train)\n",
        "\n",
        "# fit the model with data\n",
        "logreg.fit(X_scaled, y_train)"
      ],
      "execution_count": 0,
      "outputs": [
        {
          "output_type": "stream",
          "text": [
            "/usr/local/lib/python3.6/dist-packages/sklearn/linear_model/_logistic.py:940: ConvergenceWarning: lbfgs failed to converge (status=1):\n",
            "STOP: TOTAL NO. of ITERATIONS REACHED LIMIT.\n",
            "\n",
            "Increase the number of iterations (max_iter) or scale the data as shown in:\n",
            "    https://scikit-learn.org/stable/modules/preprocessing.html\n",
            "Please also refer to the documentation for alternative solver options:\n",
            "    https://scikit-learn.org/stable/modules/linear_model.html#logistic-regression\n",
            "  extra_warning_msg=_LOGISTIC_SOLVER_CONVERGENCE_MSG)\n"
          ],
          "name": "stderr"
        },
        {
          "output_type": "execute_result",
          "data": {
            "text/plain": [
              "LogisticRegression(C=1.0, class_weight=None, dual=False, fit_intercept=True,\n",
              "                   intercept_scaling=1, l1_ratio=None, max_iter=100,\n",
              "                   multi_class='auto', n_jobs=None, penalty='l2',\n",
              "                   random_state=None, solver='lbfgs', tol=0.0001, verbose=0,\n",
              "                   warm_start=False)"
            ]
          },
          "metadata": {
            "tags": []
          },
          "execution_count": 36
        }
      ]
    },
    {
      "cell_type": "code",
      "metadata": {
        "id": "KldeZL-pqx49",
        "colab_type": "code",
        "outputId": "913dafc9-80bc-4369-cc21-10857eed5cdb",
        "colab": {
          "base_uri": "https://localhost:8080/",
          "height": 35
        }
      },
      "source": [
        "#Evaluation classification accuracy\n",
        "from sklearn import metrics\n",
        "\n",
        "y_pred = logreg.predict(X_test)\n",
        "\n",
        "metrics.accuracy_score(y_pred, y_test)"
      ],
      "execution_count": 0,
      "outputs": [
        {
          "output_type": "execute_result",
          "data": {
            "text/plain": [
              "0.19042440685059997"
            ]
          },
          "metadata": {
            "tags": []
          },
          "execution_count": 23
        }
      ]
    },
    {
      "cell_type": "code",
      "metadata": {
        "id": "4ZA1i8antD2i",
        "colab_type": "code",
        "outputId": "5e30c4c9-0014-4fba-faf5-6a6a9c00ef21",
        "colab": {
          "base_uri": "https://localhost:8080/",
          "height": 35
        }
      },
      "source": [
        "#####myList = [i for i in range(1, 10, 2)]\n",
        "###myList"
      ],
      "execution_count": 0,
      "outputs": [
        {
          "output_type": "execute_result",
          "data": {
            "text/plain": [
              "[1, 3, 5, 7, 9]"
            ]
          },
          "metadata": {
            "tags": []
          },
          "execution_count": 17
        }
      ]
    }
  ]
}